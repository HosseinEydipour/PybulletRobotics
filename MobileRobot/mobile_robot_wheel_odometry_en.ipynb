{
 "cells": [
  {
   "cell_type": "markdown",
   "metadata": {},
   "source": [
    "**Table of contents**<a id='toc0_'></a>    \n",
    "- [Localization of Mobile Robot Using Wheel Odometry](#toc1_)    \n",
    "- [Starting pybullet](#toc2_)    \n",
    "- [Initial Setup](#toc3_)    \n",
    "- [Setting Parameters](#toc4_)    \n",
    "- [Odometry Estimation](#toc5_)    \n",
    "- [Bonus: Changing Friction](#toc6_)    \n",
    "\n",
    "<!-- vscode-jupyter-toc-config\n",
    "\tnumbering=false\n",
    "\tanchor=true\n",
    "\tflat=false\n",
    "\tminLevel=1\n",
    "\tmaxLevel=6\n",
    "\t/vscode-jupyter-toc-config -->\n",
    "<!-- THIS CELL WILL BE REPLACED ON TOC UPDATE. DO NOT WRITE YOUR TEXT IN THIS CELL -->"
   ]
  },
  {
   "cell_type": "markdown",
   "metadata": {},
   "source": [
    "# <a id='toc1_'></a>[Localization of Mobile Robot Using Wheel Odometry](#toc0_)\n",
    "\n",
    "(For a manual summarizing the functions available in pybullet, refer to [this link](https://github.com/bulletphysics/bullet3/blob/master/docs/pybullet_quickstartguide.pdf).)"
   ]
  },
  {
   "cell_type": "markdown",
   "metadata": {},
   "source": [
    "# <a id='toc2_'></a>[Starting pybullet](#toc0_)"
   ]
  },
  {
   "cell_type": "code",
   "execution_count": null,
   "metadata": {},
   "outputs": [
    {
     "name": "stdout",
     "output_type": "stream",
     "text": [
      "startThreads creating 1 threads.\n",
      "starting thread 0\n"
     ]
    },
    {
     "name": "stderr",
     "output_type": "stream",
     "text": [
      "pybullet build time: Oct 23 2025 19:25:36\n"
     ]
    },
    {
     "name": "stdout",
     "output_type": "stream",
     "text": [
      "started thread 0 \n",
      "argc=2\n",
      "argv[0] = --unused\n",
      "argv[1] = --start_demo_name=Physics Server\n",
      "ExampleBrowserThreadFunc started\n",
      "X11 functions dynamically loaded using dlopen/dlsym OK!\n",
      "X11 functions dynamically loaded using dlopen/dlsym OK!\n",
      "Creating context\n",
      "Created GL 3.3 context\n",
      "Direct GLX rendering context obtained\n",
      "Making context current\n",
      "GL_VENDOR=Mesa\n",
      "GL_RENDERER=llvmpipe (LLVM 20.1.2, 256 bits)\n",
      "GL_VERSION=4.5 (Core Profile) Mesa 25.0.7-0ubuntu0.24.04.2\n",
      "GL_SHADING_LANGUAGE_VERSION=4.50\n",
      "pthread_getconcurrency()=0\n",
      "Version = 4.5 (Core Profile) Mesa 25.0.7-0ubuntu0.24.04.2\n",
      "Vendor = Mesa\n",
      "Renderer = llvmpipe (LLVM 20.1.2, 256 bits)\n",
      "b3Printf: Selected demo: Physics Server\n",
      "startThreads creating 1 threads.\n",
      "starting thread 0\n",
      "started thread 0 \n",
      "MotionThreadFunc thread started\n"
     ]
    },
    {
     "name": "stdout",
     "output_type": "stream",
     "text": [
      "ven = Mesa\n",
      "ven = Mesa\n"
     ]
    }
   ],
   "source": [
    "import time\n",
    "import pybullet\n",
    "import pybullet_data\n",
    "physics_client = pybullet.connect(pybullet.GUI) "
   ]
  },
  {
   "cell_type": "markdown",
   "metadata": {},
   "source": [
    "# <a id='toc3_'></a>[Initial Setup](#toc0_)\n",
    "\n",
    "We will perform initial setup such as creating the floor, generating the robot, and setting the camera position."
   ]
  },
  {
   "cell_type": "code",
   "execution_count": 2,
   "metadata": {},
   "outputs": [],
   "source": [
    "pybullet.resetSimulation() # Reset the simulation space\n",
    "pybullet.setAdditionalSearchPath(pybullet_data.getDataPath()) # Add path to necessary data for pybullet\n",
    "pybullet.setGravity(0.0, 0.0, -9.8) # Set gravity as on Earth\n",
    "time_step = 1./240.\n",
    "pybullet.setTimeStep(time_step)\n",
    "\n",
    "# Load the floor\n",
    "plane_id = pybullet.loadURDF(\"plane.urdf\")\n",
    "\n",
    "# Load the robot\n",
    "car_start_pos = [0, 0, 0.1]  # Set the initial position (x, y, z)\n",
    "car_start_orientation = pybullet.getQuaternionFromEuler([0, 0, 0])  # Set the initial orientation (roll, pitch, yaw)\n",
    "car_id = pybullet.loadURDF(\"../urdf/simple_two_wheel_car.urdf\", car_start_pos, car_start_orientation)\n",
    "\n",
    "# Set the camera position and other parameters in GUI mode\n",
    "camera_distance = 2.0\n",
    "camera_yaw = 180.0 # deg\n",
    "camera_pitch = -90.1 # deg\n",
    "camera_target_position = [0.0, 0.0, 0.0]\n",
    "pybullet.resetDebugVisualizerCamera(camera_distance, camera_yaw, camera_pitch, camera_target_position)"
   ]
  },
  {
   "cell_type": "code",
   "execution_count": 4,
   "metadata": {},
   "outputs": [],
   "source": [
    "import math\n",
    "\n",
    "class WheelOdometry:\n",
    "    def __init__(self, initial_pose, wheel_radius, wheel_tread, const_right_wheel, const_left_wheel, initial_angle_right_wheel, initial_angle_left_wheel):\n",
    "        \"\"\"\n",
    "        Class for wheel odometry\n",
    "        Parameters\n",
    "        ----------\n",
    "        initial_pose : tuple\n",
    "            Initial position and orientation of the robot (x, y, theta)\n",
    "        wheel_radius : float\n",
    "            Radius of the wheel [m]\n",
    "        wheel_tread : float\n",
    "            Distance between the left and right wheels [m]\n",
    "        const_right_wheel : float\n",
    "            Constant for the right wheel (correction value due to friction and environment)\n",
    "        const_left_wheel : float\n",
    "            Constant for the left wheel (correction value due to friction and environment)\n",
    "        initial_angle_right_wheel : float\n",
    "            Initial angle of the right wheel [rad]\n",
    "        initial_angle_left_wheel : float\n",
    "            Initial angle of the left wheel [rad]\n",
    "        \"\"\"\n",
    "        # Constants related to the size of the wheels\n",
    "        self.WHEEL_DIAMETER = wheel_radius * 2\n",
    "        self.WHEEL_TREAD = wheel_tread\n",
    "\n",
    "        # Constants considering the environment and tire material\n",
    "        self.CONSTANT_RIGHT_WHEEL = const_right_wheel\n",
    "        self.CONSTANT_LEFT_WHEEL = const_left_wheel\n",
    "\n",
    "        # Distance per revolution\n",
    "        self.ONE_REVOLUTION_DISTANCE_RIGHT = math.pi * self.WHEEL_DIAMETER * self.CONSTANT_LEFT_WHEEL\n",
    "        self.ONE_REVOLUTION_DISTANCE_LEFT = math.pi * self.WHEEL_DIAMETER * self.CONSTANT_RIGHT_WHEEL\n",
    "\n",
    "        # Initial position and orientation of the robot (x, y, theta)\n",
    "        self.x = initial_pose[0]\n",
    "        self.y = initial_pose[1]\n",
    "        self.theta = initial_pose[2]\n",
    "\n",
    "        # Previous wheel angles\n",
    "        self.last_angle_right_wheel = initial_angle_right_wheel\n",
    "        self.last_angle_left_wheel = initial_angle_left_wheel\n",
    "\n",
    "    def update_position(self, current_angle_right_wheel, current_angle_left_wheel):\n",
    "        \"\"\"\n",
    "        Update the position and orientation of the robot\n",
    "        \n",
    "        Parameters\n",
    "        ----------\n",
    "        current_angle_right_wheel : float\n",
    "            Current angle of the right wheel [rad]\n",
    "        current_angle_left_wheel : float\n",
    "            Current angle of the left wheel [rad]\n",
    "        \"\"\"\n",
    "        # Calculate the small change in rotation angle [ΔΘ] of the left and right wheels\n",
    "        delta_angle_right_wheel = current_angle_right_wheel - self.last_angle_right_wheel\n",
    "        delta_angle_left_wheel = current_angle_left_wheel - self.last_angle_left_wheel\n",
    "\n",
    "        # Calculate the number of revolutions from the small change in rotation angle [Δθ] of the left and right wheels (convert 2π → 1 revolution)\n",
    "        revolution_right_wheel = delta_angle_right_wheel / (2.0 * math.pi)\n",
    "        revolution_left_wheel = delta_angle_left_wheel / (2.0 * math.pi)\n",
    "\n",
    "        # Calculate the distance traveled [m] by the left and right wheels\n",
    "        distance_right_wheel = revolution_right_wheel * self.ONE_REVOLUTION_DISTANCE_RIGHT\n",
    "        distance_left_wheel = revolution_left_wheel * self.ONE_REVOLUTION_DISTANCE_LEFT\n",
    "\n",
    "        # Calculate the average travel distance [m] from the left and right travel distances\n",
    "        distance_avg = (distance_right_wheel + distance_left_wheel) / 2.0\n",
    "\n",
    "        # Update the position and orientation of the robot\n",
    "        self.x += distance_avg * math.cos(self.theta)\n",
    "        self.y += distance_avg * math.sin(self.theta)\n",
    "        self.theta += math.atan2(distance_right_wheel - distance_left_wheel, self.WHEEL_TREAD)\n",
    "\n",
    "        # Keep theta within the range -π to π\n",
    "        if self.theta > math.pi:\n",
    "            self.theta -= 2 * math.pi\n",
    "        elif self.theta < -math.pi:\n",
    "            self.theta += 2 * math.pi\n",
    "\n",
    "        # Save the current wheel angles\n",
    "        self.last_angle_right_wheel = current_angle_right_wheel\n",
    "        self.last_angle_left_wheel = current_angle_left_wheel\n",
    "\n",
    "    def get_position(self):\n",
    "        \"\"\"\n",
    "        Get the position and orientation of the robot\n",
    "        \"\"\"\n",
    "        return self.x, self.y, self.theta\n"
   ]
  },
  {
   "cell_type": "markdown",
   "metadata": {},
   "source": [
    "# <a id='toc4_'></a>[Setting Parameters](#toc0_)"
   ]
  },
  {
   "cell_type": "code",
   "execution_count": 3,
   "metadata": {},
   "outputs": [],
   "source": [
    "# Indices of the joints for the left and right wheels\n",
    "RIGHT_WHEEL_IDX = 0\n",
    "LEFT_WHEEL_IDX = 1\n",
    "\n",
    "# Constants related to the wheels\n",
    "WHEEL_RADIUS = 0.05 # Radius of the wheels (match the radius of the wheels in \"simple_two_wheel_car.urdf\")\n",
    "WHEEL_THREAD = 0.325 # Distance between the wheels (match the distance between the wheels in \"simple_two_wheel_car.urdf\")\n",
    "CONST_RIGHT_WHEEL = 1.0 # Constant for the right wheel (considering friction, material, etc.)\n",
    "CONST_LEFT_WHEEL = 1.0 # Constant for the left wheel (considering friction, material, etc.)\n",
    "\n",
    "# Create sliders for linear velocity and angular velocity\n",
    "linear_vel_slider = pybullet.addUserDebugParameter(\"linear_velocity\", -10, 10, 0)\n",
    "angular_vel_slider = pybullet.addUserDebugParameter(\"angular_velocity\", -10, 10, 0)"
   ]
  },
  {
   "cell_type": "markdown",
   "metadata": {},
   "source": [
    "# <a id='toc5_'></a>[Odometry Estimation](#toc0_)\n",
    "\n",
    "When the simulation is run, you can move the robot by adjusting the sliders on the right to change the speed of the left and right wheels.\n",
    "\n",
    "Additionally, the \"true position of the robot\" and the \"position estimated by odometry\" are displayed on the screen."
   ]
  },
  {
   "cell_type": "code",
   "execution_count": null,
   "metadata": {},
   "outputs": [
    {
     "name": "stdout",
     "output_type": "stream",
     "text": [
      "【Estimate Pose x:0.60, y:0.67, theta:28.12】【True Pose x:0.54, y:0.74, theta:31.97】                             "
     ]
    },
    {
     "ename": "KeyboardInterrupt",
     "evalue": "",
     "output_type": "error",
     "traceback": [
      "\u001b[31m---------------------------------------------------------------------------\u001b[39m",
      "\u001b[31mKeyboardInterrupt\u001b[39m                         Traceback (most recent call last)",
      "\u001b[36mCell\u001b[39m\u001b[36m \u001b[39m\u001b[32mIn[5]\u001b[39m\u001b[32m, line 66\u001b[39m\n\u001b[32m     63\u001b[39m \u001b[38;5;66;03m# Display the same information using print statements\u001b[39;00m\n\u001b[32m     64\u001b[39m sys.stdout.write(\u001b[33mf\u001b[39m\u001b[33m\"\u001b[39m\u001b[38;5;130;01m\\r\u001b[39;00m\u001b[33m【Estimate Pose x:\u001b[39m\u001b[38;5;132;01m{\u001b[39;00modom_x\u001b[38;5;132;01m:\u001b[39;00m\u001b[33m.2f\u001b[39m\u001b[38;5;132;01m}\u001b[39;00m\u001b[33m, y:\u001b[39m\u001b[38;5;132;01m{\u001b[39;00modom_y\u001b[38;5;132;01m:\u001b[39;00m\u001b[33m.2f\u001b[39m\u001b[38;5;132;01m}\u001b[39;00m\u001b[33m, theta:\u001b[39m\u001b[38;5;132;01m{\u001b[39;00mmath.degrees(odom_theta)\u001b[38;5;132;01m:\u001b[39;00m\u001b[33m.2f\u001b[39m\u001b[38;5;132;01m}\u001b[39;00m\u001b[33m】【True Pose x:\u001b[39m\u001b[38;5;132;01m{\u001b[39;00mtrue_x\u001b[38;5;132;01m:\u001b[39;00m\u001b[33m.2f\u001b[39m\u001b[38;5;132;01m}\u001b[39;00m\u001b[33m, y:\u001b[39m\u001b[38;5;132;01m{\u001b[39;00mtrue_y\u001b[38;5;132;01m:\u001b[39;00m\u001b[33m.2f\u001b[39m\u001b[38;5;132;01m}\u001b[39;00m\u001b[33m, theta:\u001b[39m\u001b[38;5;132;01m{\u001b[39;00mmath.degrees(true_theta)\u001b[38;5;132;01m:\u001b[39;00m\u001b[33m.2f\u001b[39m\u001b[38;5;132;01m}\u001b[39;00m\u001b[33m】                       \u001b[39m\u001b[33m\"\u001b[39m)\n\u001b[32m---> \u001b[39m\u001b[32m66\u001b[39m \u001b[43mtime\u001b[49m\u001b[43m.\u001b[49m\u001b[43msleep\u001b[49m\u001b[43m(\u001b[49m\u001b[43mtime_step\u001b[49m\u001b[43m)\u001b[49m\n",
      "\u001b[31mKeyboardInterrupt\u001b[39m: "
     ]
    },
    {
     "ename": "",
     "evalue": "",
     "output_type": "error",
     "traceback": [
      "\u001b[1;31mThe Kernel crashed while executing code in the current cell or a previous cell. \n",
      "\u001b[1;31mPlease review the code in the cell(s) to identify a possible cause of the failure. \n",
      "\u001b[1;31mClick <a href='https://aka.ms/vscodeJupyterKernelCrash'>here</a> for more info. \n",
      "\u001b[1;31mView Jupyter <a href='command:jupyter.viewOutput'>log</a> for further details."
     ]
    }
   ],
   "source": [
    "import sys\n",
    "\n",
    "# Initialize debug drawing\n",
    "pybullet.removeAllUserDebugItems()\n",
    "replace_pose_texts = []\n",
    "\n",
    "# Set the robot to the initial position\n",
    "car_start_x = 0.0\n",
    "car_start_y = 0.0\n",
    "car_start_theta = 0.0\n",
    "car_start_pos = [car_start_x, car_start_y, 0.1]\n",
    "car_start_orientation = pybullet.getQuaternionFromEuler([0.0, 0.0, car_start_theta])\n",
    "pybullet.resetBasePositionAndOrientation(car_id, car_start_pos, car_start_orientation)\n",
    "\n",
    "# Get the initial rotation angles of the left and right wheels\n",
    "initial_angle_right_wheel = pybullet.getJointState(car_id, RIGHT_WHEEL_IDX)[0]\n",
    "initial_angle_left_wheel = pybullet.getJointState(car_id, LEFT_WHEEL_IDX)[0]\n",
    "\n",
    "# Instantiate the odometry class\n",
    "wheel_odometry = WheelOdometry([car_start_x, car_start_y, car_start_theta], WHEEL_RADIUS, WHEEL_THREAD, CONST_RIGHT_WHEEL, CONST_LEFT_WHEEL, initial_angle_right_wheel, initial_angle_left_wheel)\n",
    "\n",
    "enable_debug_text = False # Whether to display debug text on the Pybullet GUI screen (note that setting this to True will make the processing heavy)\n",
    "\n",
    "# Control the mobile robot and calculate odometry based on the values set in the sliders\n",
    "while True:\n",
    "    # Get the values from the sliders\n",
    "    linear_velocity = pybullet.readUserDebugParameter(0)\n",
    "    angular_velocity = pybullet.readUserDebugParameter(1)\n",
    "\n",
    "    # Calculate the velocities of the left and right wheels from the linear and angular velocities\n",
    "    right_wheel_velocity = linear_velocity + angular_velocity * WHEEL_THREAD / 2\n",
    "    left_wheel_velocity = linear_velocity - angular_velocity * WHEEL_THREAD / 2\n",
    "\n",
    "    # Set the velocities\n",
    "    pybullet.setJointMotorControl2(car_id, RIGHT_WHEEL_IDX, pybullet.VELOCITY_CONTROL, targetVelocity=right_wheel_velocity)\n",
    "    pybullet.setJointMotorControl2(car_id, LEFT_WHEEL_IDX, pybullet.VELOCITY_CONTROL, targetVelocity=left_wheel_velocity)\n",
    "    pybullet.stepSimulation()\n",
    "\n",
    "    # Get the current rotation angles of the wheels\n",
    "    current_angle_wheel_right = pybullet.getJointState(car_id, RIGHT_WHEEL_IDX)[0]\n",
    "    current_angle_wheel_left = pybullet.getJointState(car_id, LEFT_WHEEL_IDX)[0]\n",
    "\n",
    "    # Calculate odometry\n",
    "    wheel_odometry.update_position(current_angle_wheel_right, current_angle_wheel_left)\n",
    "    odom_x, odom_y, odom_theta = wheel_odometry.get_position()\n",
    "\n",
    "    # Get the true position and orientation\n",
    "    true_car_pos, true_car_orientation = pybullet.getBasePositionAndOrientation(car_id)\n",
    "    true_x = true_car_pos[0]\n",
    "    true_y = true_car_pos[1]\n",
    "    true_euler = pybullet.getEulerFromQuaternion(true_car_orientation)\n",
    "    true_theta = true_euler[2]\n",
    "    \n",
    "    # Display the estimated and true positions and orientations on the pybullet screen\n",
    "    if enable_debug_text:\n",
    "        if len(replace_pose_texts) == 0:\n",
    "            replace_pose_texts.append(pybullet.addUserDebugText(f\"Estimate Pose x:{odom_x:.2f}, y:{odom_y:.2f}, theta:{math.degrees(odom_theta):.2f}\", [-1.0, -0.5, 0.0], textColorRGB=[1,0,0], textSize=1.5))\n",
    "            replace_pose_texts.append(pybullet.addUserDebugText(f\"True Pose x:{true_x:.2f}, y:{true_y:.2f}, theta:{math.degrees(true_theta):.2f}\", [-1.0, -0.7, 0.0], textColorRGB=[0,1,0], textSize=1.5))\n",
    "        else:\n",
    "            pybullet.addUserDebugText(f\"Estimate Pose x:{odom_x:.2f}, y:{odom_y:.2f}, theta:{math.degrees(odom_theta):.2f}\", [-1.0, -0.5, 0.0], textColorRGB=[1,0,0], textSize=1.5, replaceItemUniqueId=replace_pose_texts[0])\n",
    "            pybullet.addUserDebugText(f\"True Pose x:{true_x:.2f}, y:{true_y:.2f}, theta:{math.degrees(true_theta)::.2f}\", [-1.0, -0.7, 0.0], textColorRGB=[0,1,0], textSize=1.5, replaceItemUniqueId=replace_pose_texts[1])\n",
    "    \n",
    "    # Display the same information using print statements\n",
    "    sys.stdout.write(f\"\\r【Estimate Pose x:{odom_x:.2f}, y:{odom_y:.2f}, theta:{math.degrees(odom_theta):.2f}】【True Pose x:{true_x:.2f}, y:{true_y:.2f}, theta:{math.degrees(true_theta):.2f}】                       \")\n",
    "\n",
    "    time.sleep(time_step)"
   ]
  },
  {
   "cell_type": "markdown",
   "metadata": {},
   "source": [
    "# <a id='toc6_'></a>[Bonus: Changing Friction](#toc0_)\n",
    "\n",
    "By running the code below, you can change the friction coefficient of the robot.\n",
    "\n",
    "After changing the friction coefficient, running the above code again will show that the odometry estimation results change."
   ]
  },
  {
   "cell_type": "code",
   "execution_count": null,
   "metadata": {},
   "outputs": [],
   "source": [
    "plane_lateral_friction = 1.0 # Friction coefficient of the floor (default is 1.0)\n",
    "wheel_lateral_friction = 1.0 # Friction coefficient of the wheels (default is 1.0)\n",
    "\n",
    "# Change the friction of the ground\n",
    "pybullet.changeDynamics(plane_id, -1, lateralFriction=plane_lateral_friction)\n",
    "\n",
    "# Change the friction of the robot's wheels\n",
    "for wheel_link in range(pybullet.getNumJoints(car_id)):\n",
    "    pybullet.changeDynamics(car_id, wheel_link, lateralFriction=wheel_lateral_friction)"
   ]
  }
 ],
 "metadata": {
  "kernelspec": {
   "display_name": "env",
   "language": "python",
   "name": "python3"
  },
  "language_info": {
   "codemirror_mode": {
    "name": "ipython",
    "version": 3
   },
   "file_extension": ".py",
   "mimetype": "text/x-python",
   "name": "python",
   "nbconvert_exporter": "python",
   "pygments_lexer": "ipython3",
   "version": "3.12.3"
  }
 },
 "nbformat": 4,
 "nbformat_minor": 2
}
